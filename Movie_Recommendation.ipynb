{
  "nbformat": 4,
  "nbformat_minor": 0,
  "metadata": {
    "colab": {
      "provenance": []
    },
    "kernelspec": {
      "name": "python3",
      "display_name": "Python 3"
    },
    "language_info": {
      "name": "python"
    }
  },
  "cells": [
    {
      "cell_type": "code",
      "source": [
        "# Simple Movie Recommendation System (No CSV Needed!)\n",
        "\n",
        "import pandas as pd\n",
        "from sklearn.feature_extraction.text import CountVectorizer\n",
        "from sklearn.metrics.pairwise import cosine_similarity\n",
        "\n",
        "# 1. Define your own dataset (right in code!)\n",
        "movies_data = [\n",
        "    {\"title\": \"Titanic\", \"genres\": \"Romance Drama\"},\n",
        "    {\"title\": \"Avengers: Endgame\", \"genres\": \"Action Adventure Sci-Fi\"},\n",
        "    {\"title\": \"The Notebook\", \"genres\": \"Romance Drama\"},\n",
        "    {\"title\": \"John Wick\", \"genres\": \"Action Thriller\"},\n",
        "    {\"title\": \"Interstellar\", \"genres\": \"Adventure Sci-Fi Drama\"},\n",
        "    {\"title\": \"The Conjuring\", \"genres\": \"Horror Thriller\"},\n",
        "    {\"title\": \"Deadpool\", \"genres\": \"Action Comedy\"},\n",
        "    {\"title\": \"La La Land\", \"genres\": \"Romance Music Drama\"},\n",
        "    {\"title\": \"Inception\", \"genres\": \"Action Sci-Fi Thriller\"},\n",
        "    {\"title\": \"The Godfather\", \"genres\": \"Crime Drama\"}\n",
        "]\n",
        "\n",
        "# 2. Create DataFrame\n",
        "movies_df = pd.DataFrame(movies_data)\n",
        "print(\"Movie Dataset:\\n\", movies_df)\n",
        "\n",
        "# 3. Convert genres to vector\n",
        "vectorizer = CountVectorizer()\n",
        "genre_matrix = vectorizer.fit_transform(movies_df['genres'])\n",
        "\n",
        "# 4. Compute similarity\n",
        "cosine_sim = cosine_similarity(genre_matrix, genre_matrix)\n",
        "\n",
        "# 5. Recommendation function\n",
        "def recommend(movie_title, top_n=5):\n",
        "    if movie_title not in movies_df['title'].values:\n",
        "        print(f\"Movie '{movie_title}' not found in dataset.\")\n",
        "        return\n",
        "\n",
        "    idx = movies_df[movies_df['title'] == movie_title].index[0]\n",
        "    sim_scores = list(enumerate(cosine_sim[idx]))\n",
        "    sim_scores = sorted(sim_scores, key=lambda x: x[1], reverse=True)\n",
        "    sim_scores = sim_scores[1:top_n+1]\n",
        "\n",
        "    print(f\"\\nRecommendations for '{movie_title}':\")\n",
        "    for i, score in sim_scores:\n",
        "        print(f\"- {movies_df.iloc[i]['title']} (Similarity: {score:.2f})\")\n",
        "\n",
        "# 6. Example recommendations\n",
        "recommend(\"Titanic\")\n",
        "recommend(\"Avengers: Endgame\")"
      ],
      "metadata": {
        "colab": {
          "base_uri": "https://localhost:8080/"
        },
        "id": "MwrYPfeJNGj0",
        "outputId": "7525ec8f-a6a4-413c-d706-5a9591b49cad"
      },
      "execution_count": 12,
      "outputs": [
        {
          "output_type": "stream",
          "name": "stdout",
          "text": [
            "Movie Dataset:\n",
            "                title                   genres\n",
            "0            Titanic            Romance Drama\n",
            "1  Avengers: Endgame  Action Adventure Sci-Fi\n",
            "2       The Notebook            Romance Drama\n",
            "3          John Wick          Action Thriller\n",
            "4       Interstellar   Adventure Sci-Fi Drama\n",
            "5      The Conjuring          Horror Thriller\n",
            "6           Deadpool            Action Comedy\n",
            "7         La La Land      Romance Music Drama\n",
            "8          Inception   Action Sci-Fi Thriller\n",
            "9      The Godfather              Crime Drama\n",
            "\n",
            "Recommendations for 'Titanic':\n",
            "- The Notebook (Similarity: 1.00)\n",
            "- La La Land (Similarity: 0.82)\n",
            "- The Godfather (Similarity: 0.50)\n",
            "- Interstellar (Similarity: 0.35)\n",
            "- Avengers: Endgame (Similarity: 0.00)\n",
            "\n",
            "Recommendations for 'Avengers: Endgame':\n",
            "- Interstellar (Similarity: 0.75)\n",
            "- Inception (Similarity: 0.75)\n",
            "- John Wick (Similarity: 0.35)\n",
            "- Deadpool (Similarity: 0.35)\n",
            "- Titanic (Similarity: 0.00)\n"
          ]
        }
      ]
    }
  ]
}